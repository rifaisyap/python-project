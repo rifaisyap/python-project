{
 "cells": [
  {
   "cell_type": "markdown",
   "metadata": {},
   "source": [
    "**TEST CASE FOR CASHIER MODULE**\n"
   ]
  },
  {
   "cell_type": "code",
   "execution_count": 1,
   "metadata": {},
   "outputs": [],
   "source": [
    "import cashier as c"
   ]
  },
  {
   "cell_type": "markdown",
   "metadata": {},
   "source": [
    "**Test Case 1: Add item**\n"
   ]
  },
  {
   "cell_type": "code",
   "execution_count": 23,
   "metadata": {},
   "outputs": [
    {
     "name": "stdout",
     "output_type": "stream",
     "text": [
      "Item that will be bought is Sayur with price 3000 and total item : 5 \n",
      "Item that will be bought is Santan with price 5000 and total item : 6 \n"
     ]
    }
   ],
   "source": [
    "transaction_1 = c.Transaction()\n",
    "transaction_1.add_item(\"Sayur\",3_000,5)\n",
    "transaction_1.add_item(\"Santan\",5_000,6)"
   ]
  },
  {
   "cell_type": "markdown",
   "metadata": {},
   "source": [
    "**Test Case 2: Update item name**"
   ]
  },
  {
   "cell_type": "code",
   "execution_count": 24,
   "metadata": {},
   "outputs": [
    {
     "name": "stdout",
     "output_type": "stream",
     "text": [
      "Item is successfully updated to Tahu\n",
      "╒═════╤═══════════╤═════════════╤════════════╤═════════════╕\n",
      "│ No. │ Nama Item │ Jumlah Item │ Harga/Item │ Total Harga │\n",
      "├─────┼───────────┼─────────────┼────────────┼─────────────┤\n",
      "│ 1   │ Santan    │ 6           │ 5000       │ 30000       │\n",
      "├─────┼───────────┼─────────────┼────────────┼─────────────┤\n",
      "│ 2   │ Tahu      │ 5           │ 3000       │ 15000       │\n",
      "╘═════╧═══════════╧═════════════╧════════════╧═════════════╛\n"
     ]
    }
   ],
   "source": [
    "transaction_1.update_item_name(\"Sayur\",\"Tahu\")\n",
    "transaction_1.show_order()"
   ]
  },
  {
   "cell_type": "markdown",
   "metadata": {},
   "source": [
    "**Test Case 3: Update item price**"
   ]
  },
  {
   "cell_type": "code",
   "execution_count": 25,
   "metadata": {},
   "outputs": [
    {
     "name": "stdout",
     "output_type": "stream",
     "text": [
      "Item is successfully updated to 7000\n",
      "╒═════╤═══════════╤═════════════╤════════════╤═════════════╕\n",
      "│ No. │ Nama Item │ Jumlah Item │ Harga/Item │ Total Harga │\n",
      "├─────┼───────────┼─────────────┼────────────┼─────────────┤\n",
      "│ 1   │ Santan    │ 6           │ 5000       │ 30000       │\n",
      "├─────┼───────────┼─────────────┼────────────┼─────────────┤\n",
      "│ 2   │ Tahu      │ 5           │ 7000       │ 35000       │\n",
      "╘═════╧═══════════╧═════════════╧════════════╧═════════════╛\n"
     ]
    }
   ],
   "source": [
    "transaction_1.update_item_price(\"Tahu\",7_000)\n",
    "transaction_1.show_order()\n"
   ]
  },
  {
   "cell_type": "markdown",
   "metadata": {},
   "source": [
    "**Test Case 4: Update total item**"
   ]
  },
  {
   "cell_type": "code",
   "execution_count": 26,
   "metadata": {},
   "outputs": [
    {
     "name": "stdout",
     "output_type": "stream",
     "text": [
      "Item is successfully updated to 8\n",
      "╒═════╤═══════════╤═════════════╤════════════╤═════════════╕\n",
      "│ No. │ Nama Item │ Jumlah Item │ Harga/Item │ Total Harga │\n",
      "├─────┼───────────┼─────────────┼────────────┼─────────────┤\n",
      "│ 1   │ Santan    │ 8           │ 5000       │ 40000       │\n",
      "├─────┼───────────┼─────────────┼────────────┼─────────────┤\n",
      "│ 2   │ Tahu      │ 5           │ 7000       │ 35000       │\n",
      "╘═════╧═══════════╧═════════════╧════════════╧═════════════╛\n"
     ]
    }
   ],
   "source": [
    "transaction_1.update_total_item(\"Santan\",8)\n",
    "transaction_1.show_order()"
   ]
  },
  {
   "cell_type": "markdown",
   "metadata": {},
   "source": [
    "**Test Case 5: Delete specific item**"
   ]
  },
  {
   "cell_type": "code",
   "execution_count": 27,
   "metadata": {},
   "outputs": [
    {
     "name": "stdout",
     "output_type": "stream",
     "text": [
      "Item successfully deleted\n",
      "╒═════╤═══════════╤═════════════╤════════════╤═════════════╕\n",
      "│ No. │ Nama Item │ Jumlah Item │ Harga/Item │ Total Harga │\n",
      "├─────┼───────────┼─────────────┼────────────┼─────────────┤\n",
      "│ 1   │ Tahu      │ 5           │ 7000       │ 35000       │\n",
      "╘═════╧═══════════╧═════════════╧════════════╧═════════════╛\n"
     ]
    }
   ],
   "source": [
    "transaction_1.delete_item(\"Santan\")\n",
    "transaction_1.show_order()"
   ]
  },
  {
   "cell_type": "markdown",
   "metadata": {},
   "source": [
    "**Test Case 6: Reset all transaction**"
   ]
  },
  {
   "cell_type": "code",
   "execution_count": 28,
   "metadata": {},
   "outputs": [
    {
     "name": "stdout",
     "output_type": "stream",
     "text": [
      "All transaction data successfully reset\n"
     ]
    }
   ],
   "source": [
    "transaction_1.reset_transaction()"
   ]
  },
  {
   "cell_type": "markdown",
   "metadata": {},
   "source": [
    "**Test Case 7: Readd item**"
   ]
  },
  {
   "cell_type": "code",
   "execution_count": 29,
   "metadata": {},
   "outputs": [
    {
     "name": "stdout",
     "output_type": "stream",
     "text": [
      "Item that will be bought is Tempe with price 5000 and total item : 6 \n",
      "Item that will be bought is Yoghurt with price 125000 and total item : 5 \n",
      "╒═════╤═══════════╤═════════════╤════════════╤═════════════╕\n",
      "│ No. │ Nama Item │ Jumlah Item │ Harga/Item │ Total Harga │\n",
      "├─────┼───────────┼─────────────┼────────────┼─────────────┤\n",
      "│ 1   │ Tempe     │ 6           │ 5000       │ 30000       │\n",
      "├─────┼───────────┼─────────────┼────────────┼─────────────┤\n",
      "│ 2   │ Yoghurt   │ 5           │ 125000     │ 625000      │\n",
      "╘═════╧═══════════╧═════════════╧════════════╧═════════════╛\n"
     ]
    }
   ],
   "source": [
    "transaction_1.add_item(\"Tempe\",5_000,6)\n",
    "transaction_1.add_item(\"Yoghurt\",125_000,5)\n",
    "transaction_1.show_order()"
   ]
  },
  {
   "cell_type": "markdown",
   "metadata": {},
   "source": [
    "**Test Case 7: Calculate all transaction**"
   ]
  },
  {
   "cell_type": "code",
   "execution_count": 30,
   "metadata": {},
   "outputs": [
    {
     "name": "stdout",
     "output_type": "stream",
     "text": [
      "Anda mendapatkan diskon sebesar 5%, sehingga total transaksi anda adalah 622250.0\n"
     ]
    }
   ],
   "source": [
    "transaction_1.total_transaction()"
   ]
  },
  {
   "cell_type": "markdown",
   "metadata": {},
   "source": []
  }
 ],
 "metadata": {
  "kernelspec": {
   "display_name": "base",
   "language": "python",
   "name": "python3"
  },
  "language_info": {
   "codemirror_mode": {
    "name": "ipython",
    "version": 3
   },
   "file_extension": ".py",
   "mimetype": "text/x-python",
   "name": "python",
   "nbconvert_exporter": "python",
   "pygments_lexer": "ipython3",
   "version": "3.10.9"
  },
  "orig_nbformat": 4
 },
 "nbformat": 4,
 "nbformat_minor": 2
}
